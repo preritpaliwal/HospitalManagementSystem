{
 "cells": [
  {
   "cell_type": "code",
   "execution_count": 9,
   "metadata": {},
   "outputs": [],
   "source": [
    "import paramiko\n",
    "import pymysql\n",
    "\n",
    "from tabulate import tabulate"
   ]
  },
  {
   "cell_type": "code",
   "execution_count": 10,
   "metadata": {},
   "outputs": [],
   "source": [
    "# Open SSH connection to the server\n",
    "ssh = paramiko.SSHClient()\n",
    "ssh.set_missing_host_key_policy(paramiko.AutoAddPolicy())\n",
    "ssh.connect(hostname='10.5.18.70', username='20CS10072', password='bt20')"
   ]
  },
  {
   "cell_type": "code",
   "execution_count": 11,
   "metadata": {},
   "outputs": [
    {
     "name": "stdout",
     "output_type": "stream",
     "text": [
      "/home/bt0/20CS10072\n",
      "\n"
     ]
    }
   ],
   "source": [
    "cmd = \"pwd\"\n",
    "stdin, stdout, stderr = ssh.exec_command(cmd)\n",
    "\n",
    "for line in stdout.readlines():\n",
    "    print(line)"
   ]
  },
  {
   "cell_type": "code",
   "execution_count": 12,
   "metadata": {},
   "outputs": [],
   "source": [
    "# Open database connection\n",
    "connection = pymysql.connect(\n",
    "    host='10.5.18.70',\n",
    "    user='20CS10072',\n",
    "    password='20CS10072',\n",
    "    db='20CS10072'\n",
    ")"
   ]
  },
  {
   "cell_type": "code",
   "execution_count": 37,
   "metadata": {},
   "outputs": [
    {
     "name": "stdout",
     "output_type": "stream",
     "text": [
      "+------+--------+-----------+----------+------+--------+-----------+---------+------+--------+------------+---------------------------+---------------+---------------+\n",
      "|   ID | Code   |   Patient |   Doctor | dt   | slot   | Outcome   | Image   |   ID | Name   |      Phone | Email                     | Address       |   InsuranceID |\n",
      "|------+--------+-----------+----------+------+--------+-----------+---------+------+--------+------------+---------------------------+---------------+---------------|\n",
      "|    2 | ABC123 |         1 |        3 |      |        |           |         |    1 | Vibhu  | 1111111111 | vibhuyadav41002@gmail.com | Addressssssss |         12345 |\n",
      "|    3 | ABC456 |         2 |        3 |      |        |           |         |    2 | Prerit | 1111111112 | prerit@gmail.com          | Addressssssss |         12346 |\n",
      "+------+--------+-----------+----------+------+--------+-----------+---------+------+--------+------------+---------------------------+---------------+---------------+\n"
     ]
    }
   ],
   "source": [
    "Patient_ID = 1\n",
    "Doctor_ID = 3\n",
    "\n",
    "query = f\"SELECT * \\\n",
    "          FROM Undergoes JOIN Patient on (Undergoes.Patient = Patient.ID) \\\n",
    "          WHERE Doctor = {Doctor_ID};\"\n",
    "\n",
    "with connection.cursor() as cursor:\n",
    "    cursor.execute(query)\n",
    "    \n",
    "    columns = [column[0] for column in cursor.description]\n",
    "    rows = cursor.fetchall()\n",
    "    print( tabulate( rows, headers = columns, tablefmt= 'psql') )"
   ]
  }
 ],
 "metadata": {
  "kernelspec": {
   "display_name": "Python 3",
   "language": "python",
   "name": "python3"
  },
  "language_info": {
   "codemirror_mode": {
    "name": "ipython",
    "version": 3
   },
   "file_extension": ".py",
   "mimetype": "text/x-python",
   "name": "python",
   "nbconvert_exporter": "python",
   "pygments_lexer": "ipython3",
   "version": "3.10.9"
  },
  "orig_nbformat": 4
 },
 "nbformat": 4,
 "nbformat_minor": 2
}
